{
 "cells": [
  {
   "cell_type": "markdown",
   "id": "043e1899",
   "metadata": {},
   "source": [
    "# all-mpnet-base-v2\n",
    "This is a sentence-transformers model: It maps sentences & paragraphs to a 768 dimensional dense vector space and can be used for tasks like clustering or semantic search."
   ]
  },
  {
   "cell_type": "code",
   "execution_count": 2,
   "id": "b99d90d0",
   "metadata": {},
   "outputs": [],
   "source": [
    "from sentence_transformers import SentenceTransformer"
   ]
  },
  {
   "cell_type": "code",
   "execution_count": 3,
   "id": "b466a055",
   "metadata": {},
   "outputs": [],
   "source": [
    "sentences = [\"This is an example sentence\", \"Each sentence is converted\"]\n",
    "sentences2=[\"I'm Sneha\",\"My name is Sneha\"]"
   ]
  },
  {
   "cell_type": "code",
   "execution_count": 4,
   "id": "1dd6a1c5",
   "metadata": {},
   "outputs": [],
   "source": [
    "model = SentenceTransformer('sentence-transformers/all-mpnet-base-v2')"
   ]
  },
  {
   "cell_type": "code",
   "execution_count": 5,
   "id": "e31af798",
   "metadata": {},
   "outputs": [
    {
     "name": "stdout",
     "output_type": "stream",
     "text": [
      "[[ 0.01058878  0.03076076  0.00880488 ...  0.01859543  0.02807812\n",
      "  -0.02958756]\n",
      " [ 0.02344712  0.06422593  0.00147947 ...  0.00096146  0.03102815\n",
      "  -0.02882148]]\n"
     ]
    }
   ],
   "source": [
    "embeddings = model.encode(sentences2)\n",
    "print(embeddings)"
   ]
  },
  {
   "cell_type": "markdown",
   "id": "29b15e15",
   "metadata": {},
   "source": [
    "We can compute similarity between two sentences using cosine similarity:\n",
    "This will give a value between -1 and 1:\n",
    "\n",
    "* 1 → sentences mean the same thing\n",
    "* 0 → unrelated\n",
    "* -1 → opposite meaning"
   ]
  },
  {
   "cell_type": "code",
   "execution_count": 7,
   "id": "658b3735",
   "metadata": {},
   "outputs": [],
   "source": [
    "from sklearn.metrics.pairwise import cosine_similarity"
   ]
  },
  {
   "cell_type": "code",
   "execution_count": 8,
   "id": "e2cd4b6b",
   "metadata": {},
   "outputs": [
    {
     "name": "stdout",
     "output_type": "stream",
     "text": [
      "[[0.88995904]]\n"
     ]
    }
   ],
   "source": [
    "similarity = cosine_similarity([embeddings[0]], [embeddings[1]])\n",
    "print(similarity)"
   ]
  }
 ],
 "metadata": {
  "kernelspec": {
   "display_name": "cusatbot",
   "language": "python",
   "name": "python3"
  },
  "language_info": {
   "codemirror_mode": {
    "name": "ipython",
    "version": 3
   },
   "file_extension": ".py",
   "mimetype": "text/x-python",
   "name": "python",
   "nbconvert_exporter": "python",
   "pygments_lexer": "ipython3",
   "version": "3.11.14"
  }
 },
 "nbformat": 4,
 "nbformat_minor": 5
}
