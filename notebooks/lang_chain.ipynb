{
 "cells": [
  {
   "cell_type": "code",
   "execution_count": null,
   "id": "f864120b",
   "metadata": {},
   "outputs": [],
   "source": [
    "import os\n",
    "from langchain_community.document_loaders import UnstructuredURLLoader\n",
    "from langchain_text_splitters import RecursiveCharacterTextSplitter\n",
    "\n",
    "from langchain_huggingface import HuggingFaceEmbeddings\n",
    "from sentence_transformers import SentenceTransformer\n",
    "from langchain_huggingface import HuggingFaceEmbeddings\n",
    "\n",
    "from langchain_community.vectorstores import Chroma\n",
    "import chromadb\n",
    "\n",
    "\n",
    "#from langchain.chains import RetrievalQA\n",
    "from langchain_google_genai import ChatGoogleGenerativeAI\n",
    "from dotenv import load_dotenv"
   ]
  },
  {
   "cell_type": "code",
   "execution_count": 8,
   "id": "e1979f4a",
   "metadata": {},
   "outputs": [],
   "source": [
    "# Load data from a webpage using UnstructuredURLLoader\n",
    "urls = [\n",
    "    \"https://stats.cusat.ac.in/index.php/About\",\n",
    "    \"https://stats.cusat.ac.in/index.php/Courses\",\n",
    "    \"https://stats.cusat.ac.in/index.php/Faculty\"\n",
    "]\n",
    "loader = UnstructuredURLLoader(urls=urls)\n",
    "documents = loader.load()"
   ]
  },
  {
   "cell_type": "code",
   "execution_count": 9,
   "id": "c59d2f62",
   "metadata": {},
   "outputs": [],
   "source": [
    "# Split text into chunks\n",
    "text_splitter = RecursiveCharacterTextSplitter(\n",
    "    chunk_size=1000,\n",
    "    chunk_overlap=100,\n",
    ")\n",
    "chunks = text_splitter.split_documents(documents)"
   ]
  },
  {
   "cell_type": "code",
   "execution_count": 10,
   "id": "0259724c",
   "metadata": {},
   "outputs": [],
   "source": [
    "# Create embeddings using Hugging Face model\n",
    "embeddings = HuggingFaceEmbeddings(model_name=\"sentence-transformers/all-mpnet-base-v2\")"
   ]
  },
  {
   "cell_type": "code",
   "execution_count": 18,
   "id": "50c0cddc",
   "metadata": {},
   "outputs": [],
   "source": [
    "# Store embeddings in Chroma vector database\n",
    "persist_directory = \"chroma_db\"\n",
    "vectordb = Chroma.from_documents(chunks, embeddings, persist_directory=persist_directory)"
   ]
  },
  {
   "cell_type": "code",
   "execution_count": 19,
   "id": "b63eadc8",
   "metadata": {},
   "outputs": [],
   "source": [
    "\n",
    "# Create retriever\n",
    "retriever = vectordb.as_retriever(search_kwargs={\"k\": 3})"
   ]
  },
  {
   "cell_type": "code",
   "execution_count": 20,
   "id": "ed2c8610",
   "metadata": {},
   "outputs": [],
   "source": [
    "# query\n",
    "query = \"Who is the Head of the Department?\"\n",
    "results = retriever.invoke(query) "
   ]
  },
  {
   "cell_type": "code",
   "execution_count": 26,
   "id": "d039e678",
   "metadata": {},
   "outputs": [
    {
     "name": "stdout",
     "output_type": "stream",
     "text": [
      "\n",
      " Retrieved Results:\n",
      "\n",
      "1. Technical Education (AICTE). The Department is actively engaged in research in the fields of both theoretical and applied areas of Statistics. The Department provides consultancy services to various industry organizations and business sectors....\n",
      "\n",
      "2. Department Of Statistics is one of the leading University departments in India and is committed to advancing knowledge and learning through teaching and research in Statistics. The University Grants Commission (UGC), Government of India has identified this department as an advanced centre in Statistics under its 'Special Assistance Programme (SAP)' at DRS level III. The Department of Statistics is...\n",
      "\n",
      "3. 9446605682\n",
      "\n",
      "nb@cusat.ac.in\n",
      "\n",
      "View Profile\n",
      "\n",
      "Non Teaching Staff\n",
      "\n",
      "Non Teaching Staff\n",
      "\n",
      "Sreelekha Kumar Section Officer (H.G.) sreelekha79@gmail.com 9995498498\n",
      "\n",
      "Dr. Babitha M. Junior Librarian babithashynu@gmail.com 9446355287\n",
      "\n",
      "Chinnu C. Nair Senior Grade Assistant chinnusree1986@gmail.com 9400498168\n",
      "\n",
      "Rehna P. Ravindran Computer Assistant (Selection Grade) rehnasureshrishi@gmail.com 9947606144\n",
      "\n",
      "Jeena Jo...\n",
      "\n"
     ]
    }
   ],
   "source": [
    "\n",
    "print(\"\\n Retrieved Results:\\n\")\n",
    "for i, doc in enumerate(results, 1):\n",
    "    print(f\"{i}. {doc.page_content[:400]}...\\n\")"
   ]
  },
  {
   "cell_type": "code",
   "execution_count": null,
   "id": "f4bab6e5",
   "metadata": {},
   "outputs": [],
   "source": []
  },
  {
   "cell_type": "code",
   "execution_count": null,
   "metadata": {},
   "outputs": [],
   "source": []
  }
 ],
 "metadata": {
  "kernelspec": {
   "display_name": "statibot",
   "language": "python",
   "name": "python3"
  },
  "language_info": {
   "codemirror_mode": {
    "name": "ipython",
    "version": 3
   },
   "file_extension": ".py",
   "mimetype": "text/x-python",
   "name": "python",
   "nbconvert_exporter": "python",
   "pygments_lexer": "ipython3",
   "version": "3.11.14"
  }
 },
 "nbformat": 4,
 "nbformat_minor": 5
}
