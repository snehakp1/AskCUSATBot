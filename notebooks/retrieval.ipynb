{
 "cells": [
  {
   "cell_type": "code",
   "execution_count": 1,
   "id": "17b1cfae",
   "metadata": {},
   "outputs": [
    {
     "name": "stderr",
     "output_type": "stream",
     "text": [
      "c:\\Users\\user\\anaconda3\\envs\\statibot\\Lib\\site-packages\\tqdm\\auto.py:21: TqdmWarning: IProgress not found. Please update jupyter and ipywidgets. See https://ipywidgets.readthedocs.io/en/stable/user_install.html\n",
      "  from .autonotebook import tqdm as notebook_tqdm\n"
     ]
    }
   ],
   "source": [
    "import os\n",
    "from dotenv import load_dotenv\n",
    "from langchain_community.document_loaders import UnstructuredURLLoader\n",
    "from langchain_text_splitters import RecursiveCharacterTextSplitter\n",
    "\n",
    "from langchain_huggingface import HuggingFaceEmbeddings\n",
    "from langchain_huggingface import HuggingFaceEmbeddings\n",
    "\n",
    "from langchain_community.vectorstores import Chroma\n",
    "import chromadb \n",
    "\n",
    "from langchain_google_genai import ChatGoogleGenerativeAI"
   ]
  },
  {
   "cell_type": "code",
   "execution_count": 7,
   "id": "ee34673a",
   "metadata": {},
   "outputs": [],
   "source": [
    "# Load API Key\n",
    "\n",
    "load_dotenv()  \n",
    "GOOGLE_API_KEY = os.getenv(\"GOOGLE_API_KEY\")\n",
    "\n",
    "if not GOOGLE_API_KEY:\n",
    "    raise ValueError(\"Please set your GOOGLE_API_KEY in a .env file!\")\n"
   ]
  },
  {
   "cell_type": "code",
   "execution_count": 12,
   "id": "3d57a739",
   "metadata": {},
   "outputs": [
    {
     "name": "stderr",
     "output_type": "stream",
     "text": [
      "Error fetching or processing https://www.cusat.ac.in/stats.php, exception: HTTPSConnectionPool(host='www.cusat.ac.in', port=443): Max retries exceeded with url: /stats.php (Caused by NameResolutionError(\"<urllib3.connection.HTTPSConnection object at 0x000002CAE02D6510>: Failed to resolve 'www.cusat.ac.in' ([Errno 11001] getaddrinfo failed)\"))\n",
      "Error fetching or processing https://stats.cusat.ac.in/index.php/About, exception: HTTPSConnectionPool(host='stats.cusat.ac.in', port=443): Max retries exceeded with url: /index.php/About (Caused by NameResolutionError(\"<urllib3.connection.HTTPSConnection object at 0x000002CAE02CF190>: Failed to resolve 'stats.cusat.ac.in' ([Errno 11001] getaddrinfo failed)\"))\n",
      "Error fetching or processing https://stats.cusat.ac.in/index.php/Courses, exception: HTTPSConnectionPool(host='stats.cusat.ac.in', port=443): Max retries exceeded with url: /index.php/Courses (Caused by NameResolutionError(\"<urllib3.connection.HTTPSConnection object at 0x000002CAE02CC710>: Failed to resolve 'stats.cusat.ac.in' ([Errno 11001] getaddrinfo failed)\"))\n",
      "Error fetching or processing https://stats.cusat.ac.in/index.php/Faculty, exception: HTTPSConnectionPool(host='stats.cusat.ac.in', port=443): Max retries exceeded with url: /index.php/Faculty (Caused by NameResolutionError(\"<urllib3.connection.HTTPSConnection object at 0x000002CAE02D4BD0>: Failed to resolve 'stats.cusat.ac.in' ([Errno 11001] getaddrinfo failed)\"))\n",
      "Error fetching or processing https://stats.cusat.ac.in/index.php/Facilities, exception: HTTPSConnectionPool(host='stats.cusat.ac.in', port=443): Max retries exceeded with url: /index.php/Facilities (Caused by NameResolutionError(\"<urllib3.connection.HTTPSConnection object at 0x000002CAE02D7650>: Failed to resolve 'stats.cusat.ac.in' ([Errno 11001] getaddrinfo failed)\"))\n"
     ]
    },
    {
     "name": "stderr",
     "output_type": "stream",
     "text": [
      "Error fetching or processing https://stats.cusat.ac.in/index.php/News, exception: HTTPSConnectionPool(host='stats.cusat.ac.in', port=443): Max retries exceeded with url: /index.php/News (Caused by NameResolutionError(\"<urllib3.connection.HTTPSConnection object at 0x000002CAE02CE5D0>: Failed to resolve 'stats.cusat.ac.in' ([Errno 11001] getaddrinfo failed)\"))\n",
      "Error fetching or processing https://stats.cusat.ac.in/index.php/Contact, exception: HTTPSConnectionPool(host='stats.cusat.ac.in', port=443): Max retries exceeded with url: /index.php/Contact (Caused by NameResolutionError(\"<urllib3.connection.HTTPSConnection object at 0x000002CAE02E8410>: Failed to resolve 'stats.cusat.ac.in' ([Errno 11001] getaddrinfo failed)\"))\n",
      "Error fetching or processing https://stats.cusat.ac.in/index.php/Bodies, exception: HTTPSConnectionPool(host='stats.cusat.ac.in', port=443): Max retries exceeded with url: /index.php/Bodies (Caused by NameResolutionError(\"<urllib3.connection.HTTPSConnection object at 0x000002CAE02EAED0>: Failed to resolve 'stats.cusat.ac.in' ([Errno 11001] getaddrinfo failed)\"))\n",
      "Error fetching or processing https://stats.cusat.ac.in/index.php/About/alumni, exception: HTTPSConnectionPool(host='stats.cusat.ac.in', port=443): Max retries exceeded with url: /index.php/About/alumni (Caused by NameResolutionError(\"<urllib3.connection.HTTPSConnection object at 0x000002CAE0296D90>: Failed to resolve 'stats.cusat.ac.in' ([Errno 11001] getaddrinfo failed)\"))\n",
      "Error fetching or processing https://stats.cusat.ac.in/index.php/Activities/award, exception: HTTPSConnectionPool(host='stats.cusat.ac.in', port=443): Max retries exceeded with url: /index.php/Activities/award (Caused by NameResolutionError(\"<urllib3.connection.HTTPSConnection object at 0x000002CAE02E8850>: Failed to resolve 'stats.cusat.ac.in' ([Errno 11001] getaddrinfo failed)\"))\n",
      "Error fetching or processing https://stats.cusat.ac.in/index.php/Courses/details/8, exception: HTTPSConnectionPool(host='stats.cusat.ac.in', port=443): Max retries exceeded with url: /index.php/Courses/details/8 (Caused by NameResolutionError(\"<urllib3.connection.HTTPSConnection object at 0x000002CAE02CD650>: Failed to resolve 'stats.cusat.ac.in' ([Errno 11001] getaddrinfo failed)\"))\n",
      "Error fetching or processing https://stats.cusat.ac.in/index.php/Courses/details/1, exception: HTTPSConnectionPool(host='stats.cusat.ac.in', port=443): Max retries exceeded with url: /index.php/Courses/details/1 (Caused by NameResolutionError(\"<urllib3.connection.HTTPSConnection object at 0x000002CAE02CCF10>: Failed to resolve 'stats.cusat.ac.in' ([Errno 11001] getaddrinfo failed)\"))\n",
      "Error fetching or processing https://stats.cusat.ac.in/index.php/Courses/details/7, exception: HTTPSConnectionPool(host='stats.cusat.ac.in', port=443): Max retries exceeded with url: /index.php/Courses/details/7 (Caused by NameResolutionError(\"<urllib3.connection.HTTPSConnection object at 0x000002CAE02D4210>: Failed to resolve 'stats.cusat.ac.in' ([Errno 11001] getaddrinfo failed)\"))\n",
      "Error fetching or processing https://stats.cusat.ac.in/index.php/Courses/details/7, exception: HTTPSConnectionPool(host='stats.cusat.ac.in', port=443): Max retries exceeded with url: /index.php/Courses/details/7 (Caused by NameResolutionError(\"<urllib3.connection.HTTPSConnection object at 0x000002CADEDBE690>: Failed to resolve 'stats.cusat.ac.in' ([Errno 11001] getaddrinfo failed)\"))\n",
      "Error fetching or processing https://iqac.cusat.ac.in/Web/profile_view/190/Prof.Dr.KCJAMES, exception: HTTPSConnectionPool(host='iqac.cusat.ac.in', port=443): Max retries exceeded with url: /Web/profile_view/190/Prof.Dr.KCJAMES (Caused by NameResolutionError(\"<urllib3.connection.HTTPSConnection object at 0x000002CAE0287410>: Failed to resolve 'iqac.cusat.ac.in' ([Errno 11001] getaddrinfo failed)\"))\n",
      "Error fetching or processing https://iqac.cusat.ac.in/Web/profile_view/203/Prof.Dr.ASHAGOPALAKRISHNAN, exception: HTTPSConnectionPool(host='iqac.cusat.ac.in', port=443): Max retries exceeded with url: /Web/profile_view/203/Prof.Dr.ASHAGOPALAKRISHNAN (Caused by NameResolutionError(\"<urllib3.connection.HTTPSConnection object at 0x000002CAE02D6ED0>: Failed to resolve 'iqac.cusat.ac.in' ([Errno 11001] getaddrinfo failed)\"))\n",
      "Error fetching or processing https://iqac.cusat.ac.in/Web/profile_view/309/Prof.PGSANKARAN, exception: HTTPSConnectionPool(host='iqac.cusat.ac.in', port=443): Max retries exceeded with url: /Web/profile_view/309/Prof.PGSANKARAN (Caused by NameResolutionError(\"<urllib3.connection.HTTPSConnection object at 0x000002CAE02CCF10>: Failed to resolve 'iqac.cusat.ac.in' ([Errno 11001] getaddrinfo failed)\"))\n",
      "Error fetching or processing https://iqac.cusat.ac.in/Web/profile_view/204/Dr.RAJESHG, exception: HTTPSConnectionPool(host='iqac.cusat.ac.in', port=443): Max retries exceeded with url: /Web/profile_view/204/Dr.RAJESHG (Caused by NameResolutionError(\"<urllib3.connection.HTTPSConnection object at 0x000002CAE0213F10>: Failed to resolve 'iqac.cusat.ac.in' ([Errno 11001] getaddrinfo failed)\"))\n",
      "Error fetching or processing https://iqac.cusat.ac.in/Web/profile_view/217/Dr.IRSHADMR, exception: HTTPSConnectionPool(host='iqac.cusat.ac.in', port=443): Max retries exceeded with url: /Web/profile_view/217/Dr.IRSHADMR (Caused by NameResolutionError(\"<urllib3.connection.HTTPSConnection object at 0x000002CAE02EA990>: Failed to resolve 'iqac.cusat.ac.in' ([Errno 11001] getaddrinfo failed)\"))\n",
      "Error fetching or processing https://iqac.cusat.ac.in/Web/profile_view/437/Dr.PRINCYT, exception: HTTPSConnectionPool(host='iqac.cusat.ac.in', port=443): Max retries exceeded with url: /Web/profile_view/437/Dr.PRINCYT (Caused by NameResolutionError(\"<urllib3.connection.HTTPSConnection object at 0x000002CAE0285590>: Failed to resolve 'iqac.cusat.ac.in' ([Errno 11001] getaddrinfo failed)\"))\n",
      "Error fetching or processing https://iqac.cusat.ac.in/Web/profile_view/162/Prof.Dr.NBALAKRISHNA, exception: HTTPSConnectionPool(host='iqac.cusat.ac.in', port=443): Max retries exceeded with url: /Web/profile_view/162/Prof.Dr.NBALAKRISHNA (Caused by NameResolutionError(\"<urllib3.connection.HTTPSConnection object at 0x000002CAE029DAD0>: Failed to resolve 'iqac.cusat.ac.in' ([Errno 11001] getaddrinfo failed)\"))\n"
     ]
    }
   ],
   "source": [
    "# Define URLs\n",
    "\n",
    "urls = [    \n",
    "            \"https://www.cusat.ac.in/stats.php\",\n",
    "            \"https://stats.cusat.ac.in/index.php/About\",\n",
    "            \"https://stats.cusat.ac.in/index.php/Courses\",\n",
    "            \"https://stats.cusat.ac.in/index.php/Faculty\",\n",
    "            \"https://stats.cusat.ac.in/index.php/Facilities\",\n",
    "            \"https://stats.cusat.ac.in/index.php/News\",\n",
    "            \"https://stats.cusat.ac.in/index.php/Contact\",\n",
    "            \"https://stats.cusat.ac.in/index.php/Bodies\",\n",
    "            \"https://stats.cusat.ac.in/index.php/About/alumni\",\n",
    "            \"https://stats.cusat.ac.in/index.php/Activities/award\",\n",
    "            \"https://stats.cusat.ac.in/index.php/Courses/details/8\",\n",
    "            \"https://stats.cusat.ac.in/index.php/Courses/details/1\",\n",
    "            \"https://stats.cusat.ac.in/index.php/Courses/details/7\",\n",
    "            \"https://stats.cusat.ac.in/index.php/Courses/details/7\",\n",
    "            \"https://iqac.cusat.ac.in/Web/profile_view/190/Prof.Dr.KCJAMES\",\n",
    "            \"https://iqac.cusat.ac.in/Web/profile_view/203/Prof.Dr.ASHAGOPALAKRISHNAN\",\n",
    "            \"https://iqac.cusat.ac.in/Web/profile_view/309/Prof.PGSANKARAN\",\n",
    "            \"https://iqac.cusat.ac.in/Web/profile_view/204/Dr.RAJESHG\",\n",
    "            \"https://iqac.cusat.ac.in/Web/profile_view/217/Dr.IRSHADMR\",\n",
    "            \"https://iqac.cusat.ac.in/Web/profile_view/437/Dr.PRINCYT\",\n",
    "            \"https://iqac.cusat.ac.in/Web/profile_view/162/Prof.Dr.NBALAKRISHNA\"\n",
    "\n",
    "\n",
    "        ]\n",
    "\n",
    "# Load and Process Data\n",
    "\n",
    "loader = UnstructuredURLLoader(urls=urls)\n",
    "documents = loader.load()"
   ]
  },
  {
   "cell_type": "code",
   "execution_count": 5,
   "id": "bc710535",
   "metadata": {},
   "outputs": [],
   "source": [
    "splitter = RecursiveCharacterTextSplitter(chunk_size=1000, chunk_overlap=100)\n",
    "texts = splitter.split_documents(documents)"
   ]
  },
  {
   "cell_type": "code",
   "execution_count": 6,
   "id": "cff81624",
   "metadata": {},
   "outputs": [
    {
     "name": "stdout",
     "output_type": "stream",
     "text": [
      "[Document(metadata={'source': 'https://www.cusat.ac.in/stats.php'}, page_content='International\\n\\nStudents\\n\\nFaculty\\n\\nAdmission\\n\\nExaminations\\n\\nPublic Relations\\n\\nNews Letter\\n\\nPress Releases\\n\\nCUSAT in Media\\n\\nScience Communicator\\n\\nServices offered\\n\\nCareers\\n\\nRecruitment\\n\\nEmployment Bureau\\n\\nIQAC\\n\\nIQAC New Portal\\n\\nIQAC Old Portal\\n\\nNIRF\\n\\nSustainability\\n\\nInstitutional Development Plan\\n\\nNAAC IIQA\\n\\nIIQA Undertaking\\n\\nARIIA 2021 Report\\n\\nKerala Specific Factors\\n\\nIndustry\\n\\nCUSATECH\\n\\nCITTIC\\n\\nTenders\\n\\nActive Tenders\\n\\nE-Procurement\\n\\ne-tender procedures\\n\\ne-tender Circular\\n\\nIntranet\\n\\nOld Website(Internal Only)\\n\\nIntercom\\n\\nRequest for Mail id\\n\\nCheck Attendance\\n\\neServices\\n\\nPensioners\\n\\nApply Biometric & ID Card\\n\\nMinutes of the Syndicate\\n\\nFFMS\\n\\nUniSPARK\\n\\nFinance Wing\\n\\nRekha@CUSAT\\n\\nOrders/Circulars\\n\\nHealth Center\\n\\n\\n\\nNews\\n\\nEvents\\n\\nAcademics\\n\\nCampus Life\\n\\nPeople\\n\\nChancellor\\n\\nPro Chancellor\\n\\nVice-Chancellor\\n\\nPro Vice-Chancellor\\n\\nRegistrar\\n\\nFinance Officer\\n\\nThe Syndicate\\n\\nThe Senate\\n\\nAcademic Council\\n\\nDeans of Faculties\\n\\nBoard of Studies - Chairman\\n\\nHeads of Department\\n\\nDirectors of Centres'), Document(metadata={'source': 'https://www.cusat.ac.in/stats.php'}, page_content='Deans of Faculties\\n\\nBoard of Studies - Chairman\\n\\nHeads of Department\\n\\nDirectors of Centres\\n\\nCUSAT Faculty\\n\\nUniversity officers\\n\\nFormer Vice Chancellors\\n\\nFormer Pro Vice Chancellors\\n\\nResearch\\n\\nResearch Centers\\n\\nResearch Areas\\n\\nOpen Defences\\n\\nPatents\\n\\nPublications\\n\\nFunding Oppurtunities\\n\\nAbout us\\n\\nVision\\n\\nMission\\n\\nHistory\\n\\nAlumni\\n\\nAchievements\\n\\nBest Practices\\n\\nAdministration\\n\\nActs and Statutes\\n\\nAnnual Reports\\n\\nContact\\n\\nAbout Kochi\\n\\nInternational\\n\\nStudents\\n\\nFaculty\\n\\nAdmissions\\n\\nExaminations\\n\\nPublic Relations\\n\\nNews Letter\\n\\nPress Releases\\n\\nCUSAT in Media\\n\\nScience Communicator\\n\\nServices offered\\n\\nCareers\\n\\nRecruitment\\n\\nEmployment Bureau\\n\\nIQAC\\n\\nIQAC New Portal\\n\\nIQAC Old Portal\\n\\nNIRF\\n\\nSustainability\\n\\nInstitutional Development Plan\\n\\nNAAC IIQA\\n\\nIIQA Undertaking\\n\\nARIIA 2021 Report\\n\\nKerala Specific Factors\\n\\nIndustry\\n\\nTenders\\n\\nActive Tenders\\n\\nE-Procurement\\n\\ne-tender procedures\\n\\ne-tender Circular\\n\\nIntranet\\n\\nOld Website(Internal Only)\\n\\nIntercom\\n\\nRequest for Mail id\\n\\nCheck Attendance\\n\\neServices'), Document(metadata={'source': 'https://www.cusat.ac.in/stats.php'}, page_content='Intranet\\n\\nOld Website(Internal Only)\\n\\nIntercom\\n\\nRequest for Mail id\\n\\nCheck Attendance\\n\\neServices\\n\\nPensioners\\n\\nApply Biometric & ID Card\\n\\nMinutes of the Syndicate\\n\\nFFMS\\n\\nUniSPARK\\n\\nFinance Wing\\n\\nRekha@CUSAT\\n\\nOrders/Circulars\\n\\nHealth Center\\n\\nSearch\\n\\nA-\\n\\nA\\n\\nA+\\n\\n\\n\\nNews\\n\\nEvents\\n\\nPeople\\n\\nChancellor\\n\\nPro Chancellor\\n\\nVice-Chancellor\\n\\nPro Vice-Chancellor\\n\\nRegistrar\\n\\nFinance Officer\\n\\nController of Examinations\\n\\nThe Syndicate\\n\\nThe Senate\\n\\nAcademic Council\\n\\nDeans of Faculties\\n\\nBoard of Studies - Chairman\\n\\nHeads of Department\\n\\nDirectors of Centres\\n\\nCUSAT Faculty\\n\\nUniversity officers\\n\\nFormer Vice Chancellors\\n\\nFormer Pro Vice Chancellors\\n\\nAcademics\\n\\nCampus\\n\\nResearch\\n\\nRecognised Centers\\n\\nResearch Areas\\n\\nOpen Defences\\n\\nPatents\\n\\nPublications\\n\\nFunding Oppurtunities\\n\\nAbout us\\n\\n\\n\\nCUSAT'), Document(metadata={'source': 'https://www.cusat.ac.in/stats.php'}, page_content='Research Areas\\n\\nOpen Defences\\n\\nPatents\\n\\nPublications\\n\\nFunding Oppurtunities\\n\\nAbout us\\n\\n\\n\\nCUSAT\\n\\nThe birth of the University of Cochin was with the specific purpose of “development of higher education with particular emphasis on post-graduate studies and research in applied science, technology, industry and commerce”. Later reorganized as CUSAT.\\n\\nRead more\\n\\nVision\\n\\nMission\\n\\nHistory\\n\\nAlumni\\n\\nAchievements\\n\\nBest Practices\\n\\nAdministration\\n\\nActs and Statutes\\n\\nAnnual Reports\\n\\nContact\\n\\nAbout Kochi\\n\\nDEPARTMENT OF STATISTICS\\n\\n\\n\\nOpened in\\n\\n1996\\n\\nLocated in\\n\\nMain campus,CUSAT\\n\\nThrikkakara\\n\\nstatistics@cusat.ac.in\\n\\n91-484- 2575893\\n\\nCore Areas of Research are Distribution Theory, Reliability Theory, Information Theory, Time Series Analysis, Statistical Inference, Stochastic Processes, Survival Analysis.'), Document(metadata={'source': 'https://www.cusat.ac.in/stats.php'}, page_content=\"Department Of Statistics is one of the leading University departments in India and is committed to advancing knowledge and learning through teaching and research in Statistics. The Department of Statistics was established as a separate department in 1996. The Department offers M.Sc degree programme in Statistics, M.Tech in Engineering Statistics and research leading to PhD degree. The M.Tech Engineering Statistics programme is approved by All India Council for Technical Education (AICTE). The University Grants Commission (UGC), Government of India has identified this department as an advanced centre in Statistics under its 'Special Assistance Programme (SAP)' at DRS level III. The Department of Statistics is supported by Department of Science and Technology (DST), Govt of India under the 'Fund for Improvement of S&T Infrastructure (FIST) scheme. The department has a full fledged computer lab with internet and Wi-Fi connectivity. The department has attracted funds from various agencies\"), Document(metadata={'source': 'https://www.cusat.ac.in/stats.php'}, page_content='lab with internet and Wi-Fi connectivity. The department has attracted funds from various agencies through sponsored research projects. Several international and national conferences/workshops in emerging areas of Statistics were organized by the department. The Department is actively engaged in research in the fields of both theoretical and applied areas of Statistics. The Department provides consultancy services to various industrial organizations and business sectors.'), Document(metadata={'source': 'https://www.cusat.ac.in/stats.php'}, page_content='Visit Statistics\\n\\nACADEMIC\\n\\nResearch\\n\\nLibrary\\n\\nAdmissions\\n\\nCampus Life\\n\\nAcademic Programmes\\n\\nUseful Downloads\\n\\nPUBLIC AFFAIRS\\n\\nTenders\\n\\nPress Releases\\n\\nIT Policy\\n\\nCareers/Vacancies\\n\\nCertificate Verify System\\n\\nRight to Services Act\\n\\nRight to Information Act\\n\\nREACH OUT\\n\\nAlumni\\n\\nHostels\\n\\nPlacements\\n\\nYouth Welfare\\n\\nEqual Opportunity Cell\\n\\nNational Service Scheme\\n\\nStudents Union\\n\\nOTHER LINKS\\n\\nGovt. of Kerala\\n\\nGovt. of India\\n\\ne-Pathshala\\n\\nNPTEL\\n\\nNIOS\\n\\n24x7 Women Helpline\\n\\nCopyrights © 2021 CUSAT. All rights reserved | Disclaimer | Contact'), Document(metadata={'source': 'https://stats.cusat.ac.in/index.php/About'}, page_content='Home\\n\\nAbout us\\n\\nCourses\\n\\nPeople\\n\\nFacilities\\n\\nNews & Events\\n\\nActivities\\n\\nResearch Area\\n\\nConference/Seminar\\n\\nHonours & Awards\\n\\nInvited Talk\\n\\nConsultancy\\n\\nCollaboration\\n\\nProjects\\n\\nActivities\\n\\nMandatory Bodies\\n\\nDownloads\\n\\nContact us\\n\\n+91-484-2862471\\n\\nstatistics@cusat.ac.in\\n\\nFind Our Location\\n\\n\\n\\nHome\\n\\nAbout us\\n\\nCourses\\n\\nPeople\\n\\nFacilities\\n\\nNews & Events\\n\\nActivities\\n\\nResearch Area\\n\\nConference/Seminar\\n\\nHonours & Awards\\n\\nInvited Talk\\n\\nConsultancy\\n\\nCollaboration\\n\\nProjects\\n\\nActivities\\n\\nMandatory Bodies\\n\\nDownloads\\n\\nContact us\\n\\nAbout us'), Document(metadata={'source': 'https://stats.cusat.ac.in/index.php/About'}, page_content=\"Department Of Statistics is one of the leading University departments in India and is committed to advancing knowledge and learning through teaching and research in Statistics. The University Grants Commission (UGC), Government of India has identified this department as an advanced centre in Statistics under its 'Special Assistance Programme (SAP)' at DRS level III. The Department of Statistics is supported by the Department of Science and Technology (DST), Govt of India under the 'Fund for Improvement of S&T Infrastructure (FIST) scheme. The Department of Statistics was established as a separate department in 1996. The Department offers Integrated M.Sc. Programme in Statistics, M.Sc. Programme in Statistics, M.Tech. Programme in Data Science and Analytics and research leading to the PhD degree. The M.Tech. in Data Science and Analytics programme is approved by the All India Council for Technical Education (AICTE). The Department is actively engaged in research in the fields of both\"), Document(metadata={'source': 'https://stats.cusat.ac.in/index.php/About'}, page_content='Technical Education (AICTE). The Department is actively engaged in research in the fields of both theoretical and applied areas of Statistics. The Department provides consultancy services to various industry organizations and business sectors.'), Document(metadata={'source': 'https://stats.cusat.ac.in/index.php/About'}, page_content='Vision\\n\\nTo become a global centre of excellence in the conservation, creation, advancement and dissemination of knowledge in the field of statistics and allied subjects.\\n\\nMision\\n\\n♦ To impart quality education to achieve excellence in teaching, research and consultancy. ♦ To generate cutting-edge research and innovations in statistics and allied areas to enable empowerment for economic, technological and social development. ♦ To strengthen international collaboration to spread the wings of CUSAT globally for teaching and research in statistics and allied areas.\\n\\nImportant Links\\n\\nCUSAT\\n\\nCUSAT Library\\n\\nIQAC\\n\\nDspace CUSAT\\n\\nFee Payment\\n\\nCUSAT Alumni\\n\\nQuik Links\\n\\nConference/Seminar\\n\\nHonours & Awards\\n\\nInvited Talk\\n\\nConsultancy\\n\\nActivities\\n\\nProjects\\n\\nAlumni\\n\\nGallery\\n\\nGet In Touch\\n\\nDepartment Of Statistics, Cochin University of Science and Technology, Cochin University P.O, Kerala, India - 682022\\n\\n+91-484-2862471\\n\\nstatistics@cusat.ac.in\\n\\nSOCIAL MEDIA'), Document(metadata={'source': 'https://stats.cusat.ac.in/index.php/About'}, page_content='+91-484-2862471\\n\\nstatistics@cusat.ac.in\\n\\nSOCIAL MEDIA\\n\\nCopyrights © 2025 Department Of Statistics -CUSAT | All rights reserved | Disclaimer | Powered by CIRM'), Document(metadata={'source': 'https://stats.cusat.ac.in/index.php/Courses'}, page_content=\"Home\\n\\nAbout us\\n\\nCourses\\n\\nPeople\\n\\nFacilities\\n\\nNews & Events\\n\\nActivities\\n\\nResearch Area\\n\\nConference/Seminar\\n\\nHonours & Awards\\n\\nInvited Talk\\n\\nConsultancy\\n\\nCollaboration\\n\\nProjects\\n\\nActivities\\n\\nMandatory Bodies\\n\\nDownloads\\n\\nContact us\\n\\n+91-484-2862471\\n\\nstatistics@cusat.ac.in\\n\\nFind Our Location\\n\\n\\n\\nHome\\n\\nAbout us\\n\\nCourses\\n\\nPeople\\n\\nFacilities\\n\\nNews & Events\\n\\nActivities\\n\\nResearch Area\\n\\nConference/Seminar\\n\\nHonours & Awards\\n\\nInvited Talk\\n\\nConsultancy\\n\\nCollaboration\\n\\nProjects\\n\\nActivities\\n\\nMandatory Bodies\\n\\nDownloads\\n\\nContact us\\n\\nDepartment of Statistics\\n\\nNotice Board\\n\\nView All\\n\\nCourses Offered\\n\\n\\n\\nFive Year Integrated M.Sc. in Statistics\\n\\nFull Time | 10 Semesters\\n\\n\\n\\nM.Sc (Statistics)\\n\\nFull Time | 4 Semesters\\n\\n\\n\\nM.Tech (Data Science & Analytics)\\n\\nFull Time | 4 Semesters\\n\\n\\n\\nPh.D (Statistics)\\n\\nFull Time / Part Time\\n\\nHOD's Desk\\n\\n\\n\\nDr. S M Sunoj\\n\\nSenior Professor\"), Document(metadata={'source': 'https://stats.cusat.ac.in/index.php/Courses'}, page_content=\"Ph.D (Statistics)\\n\\nFull Time / Part Time\\n\\nHOD's Desk\\n\\n\\n\\nDr. S M Sunoj\\n\\nSenior Professor\\n\\nWelcome to The Department of Statistics, CUSAT. Statistical knowledge helps in properly collecting data, employing the correct analyses, and effectively presenting the results. Statistics is a crucial process behind how we make discoveries in science, make decisions based on data, and make predictions. Today's era of Big data calls for more sophisticated Data Science tools, and here we train students to handle them efficiently.\\n\\n+91 9446627103\\n\\nsmsunoj@cusat.ac.in\\n\\nProfile\\n\\nResearch Area\\n\\nView All\\n\\n\\n\\nDistribution Theory\\n\\n\\n\\nStatistical Inference\\n\\n\\n\\nInformation Theory\\n\\n\\n\\nTime Series Analysis\\n\\nDepartment at a Glance\\n\\nFaculty\\n\\n11\\n\\nProjects\\n\\n6\\n\\nPublications\\n\\n0\\n\\nStudents\\n\\n108\\n\\nTestimonials\\n\\n\\n\\nDileep Kumar M.\\n\\nAssistant professor, Calicut University\\n\\n(2019 PhD)\"), Document(metadata={'source': 'https://stats.cusat.ac.in/index.php/Courses'}, page_content=\"108\\n\\nTestimonials\\n\\n\\n\\nDileep Kumar M.\\n\\nAssistant professor, Calicut University\\n\\n(2019 PhD)\\n\\nAs a post graduate and later research student of this university, I gained both academic as well as personal skills which helped me to think and achieve more in my career. The teachers were patient, understanding, and highly skilled. I must say that ' The Dept. of Statistics, CUSAT' has changed my career trajectory for the better.\\n\\nImportant Links\\n\\nCUSAT\\n\\nCUSAT Library\\n\\nIQAC\\n\\nDspace CUSAT\\n\\nFee Payment\\n\\nCUSAT Alumni\\n\\nQuik Links\\n\\nConference/Seminar\\n\\nHonours & Awards\\n\\nInvited Talk\\n\\nConsultancy\\n\\nActivities\\n\\nProjects\\n\\nAlumni\\n\\nGallery\\n\\nGet In Touch\\n\\nDepartment Of Statistics, Cochin University of Science and Technology, Cochin University P.O, Kerala, India - 682022\\n\\n+91-484-2862471\\n\\nstatistics@cusat.ac.in\\n\\nSOCIAL MEDIA\\n\\nCopyrights © 2025 Department Of Statistics -CUSAT | All rights reserved | Disclaimer | Powered by CIRM\"), Document(metadata={'source': 'https://stats.cusat.ac.in/index.php/Faculty'}, page_content=\"Home\\n\\nAbout us\\n\\nCourses\\n\\nPeople\\n\\nFacilities\\n\\nNews & Events\\n\\nActivities\\n\\nResearch Area\\n\\nConference/Seminar\\n\\nHonours & Awards\\n\\nInvited Talk\\n\\nConsultancy\\n\\nCollaboration\\n\\nProjects\\n\\nActivities\\n\\nMandatory Bodies\\n\\nDownloads\\n\\nContact us\\n\\n+91-484-2862471\\n\\nstatistics@cusat.ac.in\\n\\nFind Our Location\\n\\n\\n\\nHome\\n\\nAbout us\\n\\nCourses\\n\\nPeople\\n\\nFacilities\\n\\nNews & Events\\n\\nActivities\\n\\nResearch Area\\n\\nConference/Seminar\\n\\nHonours & Awards\\n\\nInvited Talk\\n\\nConsultancy\\n\\nCollaboration\\n\\nProjects\\n\\nActivities\\n\\nMandatory Bodies\\n\\nDownloads\\n\\nContact us\\n\\nPeople\\n\\nHead of the Department\\n\\nHOD's Desk\\n\\n\\n\\nDr. S M Sunoj\\n\\nSenior Professor\\n\\n+91 9446627103\\n\\nsmsunoj@cusat.ac.in\\n\\nHod's Message\"), Document(metadata={'source': 'https://stats.cusat.ac.in/index.php/Faculty'}, page_content=\"HOD's Desk\\n\\n\\n\\nDr. S M Sunoj\\n\\nSenior Professor\\n\\n+91 9446627103\\n\\nsmsunoj@cusat.ac.in\\n\\nHod's Message\\n\\nWelcome to The Department of Statistics, CUSAT. Statistical knowledge helps in properly collecting data, employing the correct analyses, and effectively presenting the results. Statistics is a crucial process behind how we make discoveries in science, make decisions based on data, and make predictions. Today's era of Big data calls for more sophisticated Data Science tools, and here we train students to handle them efficiently.\\n\\nFaculty\\n\\nFaculty\\n\\nDr. K C James Professor Research Area: -Analytics, Quality Control and Management, Reliability, Simulation Modelling jamesmech@cusat.ac.in 9446605183 View Profile\\n\\nDr. Asha Gopalakrishnan Senior Professor Research Area: -Distribution Theory, Reliability Modelling, Survival Analysis asha@cusat.ac.in 9447220353 View Profile\"), Document(metadata={'source': 'https://stats.cusat.ac.in/index.php/Faculty'}, page_content='Dr. P G Sankaran Emeritus Professor Research Area: -Survival Analysis, Reliability Theory, Distributions, Statistical Inference pgsankaran@cusat.ac.in 9847348528 View Profile\\n\\nDr. S M Sunoj Senior Professor and Head Research Area: -Reliability Modelling, Information Measures smsunoj@cusat.ac.in 9446627103 View Profile\\n\\nDr. Rajesh G Professor Research Area: -Distribution Theory,  Information Measures, Non-parametric Inference rajeshgstat@cusat.ac.in 9447280968 View Profile\\n\\nDr. Irshad M R Assistant Professor Research Area: -Distribution theory, Order Statistics, Count Data Modelling irshadmr@cusat.ac.in 8943745636 View Profile\\n\\nDr. Princy T Assistant Professor Research Area: -Distribution Theory, Applied Mathematics, Survival Analysis princyt@cusat.ac.in 9446682020 View Profile\\n\\nDr. SREEDEVI E. P. Assistant Professor Research Area: -Survival Analysis sreedeviep@gmail.com 9497166458 View Profile'), Document(metadata={'source': 'https://stats.cusat.ac.in/index.php/Faculty'}, page_content='HASHMY HASSAN Assistant Professor on Contract Research Area: -Information Retrieval, Data Science, Text Mining hashmyhas123@gmail.com 9995867891 View Profile\\n\\nDr. AMBILY JOSE Assistant Professor on Contract Research Area: -Hidden Markov Models ambilystat06@gmail.com 9567784957 View Profile\\n\\nDr. Merlymole Joseph K. Guest faculty Research Area: - molpyjoseph@gmail.com 9747070904\\n\\nDr. Maya R. Guest faculty Research Area: - mayasekharan@gmail.com 0000000000\\n\\nFormer Faculty\\n\\nFormer Faculty\\n\\n\\n\\nDr. N UNNIKRISHNAN NAIR\\n\\nPositions Held:Professor (Rtd.)\\n\\n91-484-2577\\n\\nnunair2004@yahoo.com\\n\\nView Profile\\n\\n\\n\\nDr. K R MURALEEDHARAN NAIR\\n\\nPositions Held:Professor (Rtd.)\\n\\n9446747632\\n\\nkrmnair@cusat.ac.in\\n\\n\\n\\nDr. V. K. RAMACHANDRAN NAIR\\n\\nPositions Held:Professor (Rtd.)\\n\\n9446861810\\n\\nram@cusat.ac.in\\n\\n\\n\\nDr. N Balakrishna\\n\\nPositions Held:Senior Professor (Rtd.)\\n\\n9446605682\\n\\nnb@cusat.ac.in\\n\\nView Profile\\n\\nNon Teaching Staff\\n\\nNon Teaching Staff'), Document(metadata={'source': 'https://stats.cusat.ac.in/index.php/Faculty'}, page_content='9446605682\\n\\nnb@cusat.ac.in\\n\\nView Profile\\n\\nNon Teaching Staff\\n\\nNon Teaching Staff\\n\\nSreelekha Kumar Section Officer (H.G.) sreelekha79@gmail.com 9995498498\\n\\nDr. Babitha M. Junior Librarian babithashynu@gmail.com 9446355287\\n\\nChinnu C. Nair Senior Grade Assistant chinnusree1986@gmail.com 9400498168\\n\\nRehna P. Ravindran Computer Assistant (Selection Grade) rehnasureshrishi@gmail.com 9947606144\\n\\nJeena Jose Assistant Section Officer josjina@gmail.com 9495850911\\n\\nResearch Scholars\\n\\nResearch Scholars'), Document(metadata={'source': 'https://stats.cusat.ac.in/index.php/Faculty'}, page_content='Full Time Research Scholars Sl.No Name Research Area Part Time Research Scholars Sl.No Name Research Area 1 Anu Susan George Survival Analysis 2 Ashlin Mathew PM Survival Analysis 3 Baby A K Information Theory, Distribution Theory 4 Himanshu Pokhriyal Time Series Analysis 5 Linto Joseph Distribution Theory 6 Rasin R S Reliability Analysis 7 Rejani P P Survival Analysis 8 Hari Prasad E Density Forecast Evaluation in Time Series 9 Muhammed Ahammed E S A Study on Bilal Distribution 10 Philip T A Study on Directional Entropy of Probability Distributions 11 Prasanth V P Statistical Analysis of Biosimilar Drugs 12 Tincy Philip A Study on Information Measures and its Applications PhD Awarded Sl.No Name Year of Completion Title Current Position 1 Anuresha Krishna 2025 A Study of Various Compounds Poisson Models and Generalizations of Teissier Distribution in an Integer-Valued Autoregressive Framework Completed 2 Himanshu Pokhriyal 2023 Modelling Time Series in the Presence of Measurement'), Document(metadata={'source': 'https://stats.cusat.ac.in/index.php/Faculty'}, page_content='Framework Completed 2 Himanshu Pokhriyal 2023 Modelling Time Series in the Presence of Measurement Errors Completed 3 Rasin R S 2022 Modelling and Analysis of Lifetime Data using Ageing Intensity Functions Completed 4 Rejani P P 2023 Cure Rate Regression Models in Survival Analysis Completed 5 Aswin I C 2023 Modelling Lifetime Data Using Quantile-Based Reliability Measures Teacher 6 David Chris Raju 2023 Cumulative Tsallis Entropy and its Associate Measures: Properties and Applications - 7 Durga Vasudevan 2024 Some Analytical Properties of Bivariate Lifetime Models for Left-Censored Data via Functional Equations Completed 8 Hari S 2024 Statistical Analysis of Incomplete Recurrent Event Data Completed 9 Richu Rajesh 2023 Nonparametric Estimation of Information Measures Under Length-Based Sampling and Its Applications - 10 Silpa Subhash 2023 Modelling and Analysis of Quantile-based Information Measures and Their Applications - 11 Sisuma M S 2023 Statistical Analysis of Recurrent Event'), Document(metadata={'source': 'https://stats.cusat.ac.in/index.php/Faculty'}, page_content=\"Measures and Their Applications - 11 Sisuma M S 2023 Statistical Analysis of Recurrent Event Competing Risks Data - 12 Soorya C S 2024 Generalizations of Defective Distributions for Cure Rate Modelling - 13 Veena D'cruz 2023 On Some Generalizations of Lindley Distribution and Thinning Based Lindley Models for Analyzing Integer-Valued Time Series - 14 - - - Pursuing\"), Document(metadata={'source': 'https://stats.cusat.ac.in/index.php/Faculty'}, page_content='Students\\n\\nStudents\\n\\nStudents'), Document(metadata={'source': 'https://stats.cusat.ac.in/index.php/Faculty'}, page_content='M.Tech Data Science and Analytics : 2025-2027 Batch 1 SONNA BENNY 2 ANANYA BRINI 3 BHARATH VIKRAM B K 4 ESSIE V AYROOKUZHY 5 INDRAJITH LAL 6 JAIGOVIND B SHENOY 7 KORUKONDA PAVAN MOURYA 8 ROSHAN VARGHESE SAM 9 SHIFANAMISRIN M 10 SNEHA XAVIER M.Tech Data Science and Analytics : 2024-2026 Batch 1 FARIHA ASHIR 2 VISHNU M P 3 THEJUS K J 4 RAHUL M K 5 PARVATHI V 6 NESRIN ANWER 7 NAMITHA A 8 MEGHANA M S 9 HIBA FATHIMA T S 10 HARIET JACKSON 11 FARHAN SHAH RAHIMAN 12 DIYA ANNA MATHEW 13 AYISHA E S 14 ASHLY ELIZEBATH JOSEPH 15 ANN MARY K 16 ABHIJITH SUNIL M.Tech Data Science and Analytics : 2023-2025 Batch 1 ALEN BABU 2 ABHINAV P A 3 ALKHA HARIDAS P 4 AMRUTHA ANTONY 5 ARUNDHATHI  V 6 CHARUDARSAN P 7 DARSANA BIJU 8 DIYA RAJAN 9 JITHUMOL THANKACHAN 10 PRAJUL N A S 11 PRASANTH K V 12 REHNA IBRAHIM 13 SNEHA K P 14 SUMITHA M NAIR M.Sc. : 2021-23 Batch 1 Aswathi Jayachandran 2 Sruthy Biju 3 Saga P S 4 Faris K Ali 5 Indra Prasad 6 Sreelakshmi V B 7 Vismaya Vinod 8 Athira M 9 Aswathiraj A 10 Nimmy'), Document(metadata={'source': 'https://stats.cusat.ac.in/index.php/Faculty'}, page_content='S 4 Faris K Ali 5 Indra Prasad 6 Sreelakshmi V B 7 Vismaya Vinod 8 Athira M 9 Aswathiraj A 10 Nimmy Xavier 11 Anupama Miller 12 Anju K A 13 Anjanakrishna K 14 Anjana Prakash 15 Anjana K. 16 Angel Thimose 17 Anamika K V 18 Nandana Suresh 19 Anjali K Prakash 20 Rahul T 21 Sarangi S Kumar 22 Sharanya Sasikumar Nair 23 Venkatesh N N 24 A S Keerthana Iyer 25 Amrutha. Tm 26 Ishana J S 27 Fathima Rafeek Yousef 28 Manuprasad E 29 Agnes Jerome 30 Abhijith Sunil 31 Anna Jo 32 David Peter M.Sc. : 2020-22 Batch 1 Maneesha Manoj 2 Mahjoob O.M 3 Krupa Susan George 4 Krishnendu Mohan 5 Fabisa Rajan 6 Devika Sasi 7 Devika Devaraj 8 Ashna Felix 9 Arathi T.S 10 Amrutha S 11 Aiswarya Unnikrishnan 12 Ammu G Nair 13 Rintu Mol Mathew 14 M Sreelakshmi Unnikrishnan 15 Pravitha P Pai 16 Remya Rajan 17 Reshma Soosan George 18 Shifna P R 19 Sona Shaju 20 V Aleesha Reji 21 Poojamol K S 22 Pramitha P Pai M.Sc Statistics : 2025-2027 Batch 1 SHAHANA N P 2 DEVIKA S 3 DHANANJAY S B 4 GAGAN RAJ 5 HADI AFSAL T 6 JESLYN'), Document(metadata={'source': 'https://stats.cusat.ac.in/index.php/Faculty'}, page_content=': 2025-2027 Batch 1 SHAHANA N P 2 DEVIKA S 3 DHANANJAY S B 4 GAGAN RAJ 5 HADI AFSAL T 6 JESLYN MARY JOY 7 MUHAMMED SINAAN M K 8 SAFA MANSOOR 9 ABHAY JOSEPH C J 10 ANJANA P 11 ANITTA BIJU 12 ANNADHA MAHESH 13 ANILA S 14 AMAL JAYAKUMAR 15 ADITHYA E S 16 ARCHANA S NAMBI M.Sc Statistics : 2024-2026 Batch 1 A.K. SWAMY NARAYANAN 2 VISHNU UNNIKRISHNAN 3 SREYA MARIAM GEORGE 4 SABREENA V S 5 RINTU MARIA SAJI 6 NANDANA P 7 MERLIN T BENNY 8 MARYAM NIHLA 9 KRISHNAPRIYA SANTHOSH 10 KRISHNAPRIYA A P 11 KAINS MATHEW BENOY 12 HAMNA V K 13 FATHIMATHU ZUHRA ABDUSSAMAD 14 BHAIMI R 15 ASHTAMI S 16 ARYA VIJAYAN 17 ARSHA H A 18 ARSHA ARAVIND 19 ARDRA K H 20 ANJUSREE 21 AMRITHA RAJ M.Sc Statistics : 2023-2025 Batch 1 LINTA JOSH 2 THABSY K V 3 MARIA JOSEPH 4 POOJA A P 5 ROWEENA K DAVIS 6 SALMA P A 7 SHADA SALAM M 8 KRISHNANUNNI N S 9 KRISHNAJA K V 10 SINU MARIA JEESON 11 SMINA K S 12 SNEHA RAJEEV 13 SNEHA S RAJ 14 VINAYA V 15 GAYATHRY P L 16 ARDHRA ULLAS 17 ANUSHA GEORGE 18 ANU ROSE JOY 19 ANNA ROSE JOY 20'), Document(metadata={'source': 'https://stats.cusat.ac.in/index.php/Faculty'}, page_content='14 VINAYA V 15 GAYATHRY P L 16 ARDHRA ULLAS 17 ANUSHA GEORGE 18 ANU ROSE JOY 19 ANNA ROSE JOY 20 ALFIYA V P 21 AFNA HAMEED 22 ABDUL FATHAH P 23 AMEEN T V M.Sc : 2022-24 Batch 1 Hridra R 2 Gayathri Praveen 3 Aparna A S 4 Christin Jacob James 5 Sanjay S 6 Govind Hari 7 Ardra S Nath 8 Fathima Rilfa 9 Hiba A P 10 Neethu S Bhanu 11 Amarswatha C 12 Kunhilakshmi T K 13 Sreevinayak K P 14 Jithin J 15 Mary Athulya David 16 Mohammed Dilshad M 17 Mubashir K 18 Poojalakshmi K A 19 Abijith J 20 Hiba R 21 Devapriya P S 22 Anupriya R S 23 Ankit K A 24 Angel Maria John 25 Ahammed Shaheer P 26 Aaromal Jith S 27 Sreelakshmi K S M. Tech (Engineering Statistics) : 2020-22 Batch 1 Anju M Nair 2 Aju Varkey 3 Jayadev R 4 Jithin Thamby 5 Nikhil George M.M 6 Kavya Rajagopal 7 Rahul Ramesh 8 Reshma  A.S 9 Shilpa  M Biju M. Tech (Data science) : 2021-23 Batch 1 Thomas John 2 Elsa Maria Thomas 3 Arif Muhammed 4 A M Pranav 5 Aashik Muhammed 6 Glomisha V S 7 Jazeela P 8 Josbin Jose 9 Leema Rose T J 10 Nrebin Raj'), Document(metadata={'source': 'https://stats.cusat.ac.in/index.php/Faculty'}, page_content='M Pranav 5 Aashik Muhammed 6 Glomisha V S 7 Jazeela P 8 Josbin Jose 9 Leema Rose T J 10 Nrebin Raj 11 N Dharani Devi IMSc Statistics : 2022-2027 Batch 1 AYISHA NOORIYA K A 2 MUHAMMED RAJWAN.K 3 MALAVIKA P M 4 KALYANI M 5 FATHIMA SANIYA V 6 FAHIMA NASHWA 7 ARDRA RAJU 8 ARYA V C 9 NANDANA K S 10 S AKSHAYA 11 TEJALAKSHMI K S 12 ARATHY KRISHNA R 13 AKHILA V P 14 ABITHA B IMSc Statistics : 2021-2026 Batch 1 ANAGHA K 2 DIYA SOMICHAN 3 KEERTHANA MARIYA CYRIL 4 KESIYA JOSEPH 5 MEGHA DEEPAK 6 SAYUJYA VINOD 7 SREELAKSHMI C 8 SHWETHA P AJIT IMSc Statistics : 2020-2025 Batch 1 NAVYA V 2 ANUSREE T R 3 APARNA K 4 FATHIMA ANAS 5 HANAN SUBAIR 6 KRISHNAPRIYA R S 7 MEENAKSHI D 8 NANDHANA DHANESH 9 NAVANEETH R VARMA 10 NIYA PARVATHI V A 11 PARVATHY G PRAKASH 12 SIYONA JOSE Five Year Integrated M.Sc in Statistics : 2025-2030 Batch 1 ASWIN T 2 ASHUTHOSH S SURESH 3 THOMAS ROONEY 4 BISMI FATHIMA S 5 CHANDHNI KRISHNA 6 DEVANANDA P WILSON 7 DILNA ROSE JAMES 8 ELSA MARIYA GEORGE 9 LIYANA SUMAN 10 MUHAMMED'), Document(metadata={'source': 'https://stats.cusat.ac.in/index.php/Faculty'}, page_content='KRISHNA 6 DEVANANDA P WILSON 7 DILNA ROSE JAMES 8 ELSA MARIYA GEORGE 9 LIYANA SUMAN 10 MUHAMMED ADHNAN T 11 SREELAKSHMI P 12 SREENANDA C B 13 SREENANDA SUNIL 14 SRIHARI S MADHAV 15 ANILA BENNY 16 AMAN SUNIL Five Year Integrated M.Sc in Statistics : 2024-2029 Batch 1 ADARSH J CHANDRAN 2 AYYASH MAHROOF C K 3 BHAMA NAIR 4 DEVAMRITA P 5 DONCY DONISH 6 JESNA A 7 K R VIVEK 8 KIRAN.R 9 MUHAMMED AQUIF N 10 RAHUL KRISHNA R 11 RANNA K 12 SAYAK VINOD 13 SHEBIN NAZEER N K'), Document(metadata={'source': 'https://stats.cusat.ac.in/index.php/Faculty'}, page_content='Alumni\\n\\nImportant Links\\n\\nCUSAT\\n\\nCUSAT Library\\n\\nIQAC\\n\\nDspace CUSAT\\n\\nFee Payment\\n\\nCUSAT Alumni\\n\\nQuik Links\\n\\nConference/Seminar\\n\\nHonours & Awards\\n\\nInvited Talk\\n\\nConsultancy\\n\\nActivities\\n\\nProjects\\n\\nAlumni\\n\\nGallery\\n\\nGet In Touch\\n\\nDepartment Of Statistics, Cochin University of Science and Technology, Cochin University P.O, Kerala, India - 682022\\n\\n+91-484-2862471\\n\\nstatistics@cusat.ac.in\\n\\nSOCIAL MEDIA\\n\\nCopyrights © 2025 Department Of Statistics -CUSAT | All rights reserved | Disclaimer | Powered by CIRM'), Document(metadata={'source': 'https://stats.cusat.ac.in/index.php/Facilities'}, page_content='Home\\n\\nAbout us\\n\\nCourses\\n\\nPeople\\n\\nFacilities\\n\\nNews & Events\\n\\nActivities\\n\\nResearch Area\\n\\nConference/Seminar\\n\\nHonours & Awards\\n\\nInvited Talk\\n\\nConsultancy\\n\\nCollaboration\\n\\nProjects\\n\\nActivities\\n\\nMandatory Bodies\\n\\nDownloads\\n\\nContact us\\n\\n+91-484-2862471\\n\\nstatistics@cusat.ac.in\\n\\nFind Our Location\\n\\n\\n\\nHome\\n\\nAbout us\\n\\nCourses\\n\\nPeople\\n\\nFacilities\\n\\nNews & Events\\n\\nActivities\\n\\nResearch Area\\n\\nConference/Seminar\\n\\nHonours & Awards\\n\\nInvited Talk\\n\\nConsultancy\\n\\nCollaboration\\n\\nProjects\\n\\nActivities\\n\\nMandatory Bodies\\n\\nDownloads\\n\\nContact us\\n\\nINFRASTRUCTURE AND RESEARCH FACILITIES\\n\\nThe Department has good computing facility for Students, Research scholars and faculty members. All rooms have networked computers which allow Internet access to every member on the department. There are also computer laboratories and facilities for high quality printing and photocopying. The department has acquired licensed versions of several statistical softwares such as SPSS, SAS, Mathematica, MathLab and Statistica.'), Document(metadata={'source': 'https://stats.cusat.ac.in/index.php/Facilities'}, page_content='THE LIBRARY\\n\\nThe Department keeps an excellent library with more than 2000 books. The Department is subscribing many of the National/International Journals. Over the years the department has collected a large number of useful back volumes of various well-known National/International journals. The faculty and students get the opportunity to utilize the University Central Library which has a good collection of books and back volumes of journals on theoretical and applied statistics. The University also provides access to important journals through its E-Gateway.\\n\\n\\n\\nCOMPUTER LAB\\n\\nThe department has two computer labs that facilitate regular curriculum, research and project work. Internet facility is also available for each system. Each lab is large enough to accommodate the students with a machine each. Fully air-conditioned, with well-qualified software instructors in attendance is the high point of these labs.\\n\\n\\n\\nImportant Links\\n\\nCUSAT\\n\\nCUSAT Library\\n\\nIQAC\\n\\nDspace CUSAT\\n\\nFee Payment'), Document(metadata={'source': 'https://stats.cusat.ac.in/index.php/Facilities'}, page_content='Important Links\\n\\nCUSAT\\n\\nCUSAT Library\\n\\nIQAC\\n\\nDspace CUSAT\\n\\nFee Payment\\n\\nCUSAT Alumni\\n\\nQuik Links\\n\\nConference/Seminar\\n\\nHonours & Awards\\n\\nInvited Talk\\n\\nConsultancy\\n\\nActivities\\n\\nProjects\\n\\nAlumni\\n\\nGallery\\n\\nGet In Touch\\n\\nDepartment Of Statistics, Cochin University of Science and Technology, Cochin University P.O, Kerala, India - 682022\\n\\n+91-484-2862471\\n\\nstatistics@cusat.ac.in\\n\\nSOCIAL MEDIA\\n\\nCopyrights © 2025 Department Of Statistics -CUSAT | All rights reserved | Disclaimer | Powered by CIRM')]\n",
      "Number of text chunks: 34\n"
     ]
    }
   ],
   "source": [
    "print(texts)\n",
    "print(f\"Number of text chunks: {len(texts)}\")"
   ]
  },
  {
   "cell_type": "code",
   "execution_count": 7,
   "id": "af67984f",
   "metadata": {},
   "outputs": [],
   "source": [
    "from langchain_huggingface import HuggingFaceEmbeddings\n",
    "from langchain_community.vectorstores import Chroma\n",
    "import chromadb "
   ]
  },
  {
   "cell_type": "code",
   "execution_count": null,
   "id": "8ed23dd6",
   "metadata": {},
   "outputs": [],
   "source": []
  },
  {
   "cell_type": "code",
   "execution_count": null,
   "id": "7912d046",
   "metadata": {},
   "outputs": [],
   "source": [
    "reate Embeddings & Store in ChromaDB\n",
    "\n",
    "embeddings = HuggingFaceEmbeddings(model_name=\"sentence-transformers/all-mpnet-base-v2\")\n",
    "\n",
    "persist_directory = \"chroma_db2\"\n",
    "\n",
    "vectordb = Chroma.from_documents(texts, embeddings, persist_directory=persist_directory)"
   ]
  },
  {
   "cell_type": "code",
   "execution_count": 10,
   "id": "06950988",
   "metadata": {},
   "outputs": [],
   "source": [
    "# Initialize Gemini Model\n",
    "\n",
    "gemini_llm = ChatGoogleGenerativeAI(\n",
    "    model=\"gemini-2.5-flash\",\n",
    "    temperature=0.3,\n",
    "    verbose=True,\n",
    "    google_api_key=GOOGLE_API_KEY\n",
    ")"
   ]
  },
  {
   "cell_type": "code",
   "execution_count": 14,
   "id": "bf52220c",
   "metadata": {},
   "outputs": [
    {
     "name": "stdout",
     "output_type": "stream",
     "text": [
      "5 documents retrieved.\n"
     ]
    }
   ],
   "source": [
    "# Define the fixed query\n",
    "query = \"Who is the Head of the Department of Statistics?\"\n",
    "\n",
    "# # Create retriever\n",
    "# retriever = vectordb.as_retriever(search_kwargs={\"k\": 3})\n",
    "\n",
    "\n",
    "# # Retrieve the top 3 relevant documents\n",
    "# results = retriever.get_relevant_documents(query)\n",
    "vectorstore=Chroma(persist_directory=\"./chroma_db\",embedding_function=embeddings)\n",
    "results= vectorstore.similarity_search(query, k=5)\n",
    "\n",
    "print(len(results), \"documents retrieved.\")\n",
    "\n",
    "# Combine the retrieved text content\n",
    "retrieved_text = \"\\n\\n\".join([doc.page_content for doc in results])\n",
    "\n"
   ]
  },
  {
   "cell_type": "code",
   "execution_count": 13,
   "id": "b59d1ceb",
   "metadata": {},
   "outputs": [
    {
     "name": "stdout",
     "output_type": "stream",
     "text": [
      "\n",
      "🤖 Gemini Answer:\n",
      "\n",
      "The Head of the Department of Statistics is Dr. S M Sunoj.\n"
     ]
    }
   ],
   "source": [
    "\n",
    "\n",
    "\n",
    "\n",
    "# Construct the combined prompt for the LLM\n",
    "combined_prompt = f\"\"\"\n",
    "You are a helpful assistant for university information.\n",
    "Use the following context to answer the question clearly and concisely.\n",
    "\n",
    "Context:\n",
    "{retrieved_text}\n",
    "\n",
    "Question:\n",
    "{query}\n",
    "\n",
    "Answer:\n",
    "\"\"\"\n",
    "\n",
    "# Call the LLM (Gemini)\n",
    "#response = gemini_llm.predict(combined_prompt)\n",
    "response = gemini_llm.invoke(combined_prompt)\n",
    "\n",
    "# Print the result\n",
    "print(\"\\n🤖 Gemini Answer:\\n\")\n",
    "print(response.text)"
   ]
  },
  {
   "cell_type": "markdown",
   "id": "2c580cdd",
   "metadata": {},
   "source": [
    "creating function"
   ]
  },
  {
   "cell_type": "code",
   "execution_count": null,
   "id": "8f63447d",
   "metadata": {},
   "outputs": [],
   "source": [
    "from langchain_huggingface import HuggingFaceEmbeddings\n",
    "from langchain_huggingface import HuggingFaceEmbeddings\n",
    "\n",
    "from langchain_community.vectorstores import Chroma\n",
    "import chromadb \n",
    "\n",
    "from langchain_google_genai import ChatGoogleGenerativeAI"
   ]
  },
  {
   "cell_type": "code",
   "execution_count": null,
   "id": "1f9b3141",
   "metadata": {},
   "outputs": [],
   "source": [
    "\n",
    "\n",
    "gemini_llm = ChatGoogleGenerativeAI(\n",
    "    model=\"gemini-2.5-flash\",\n",
    "    temperature=0.3,\n",
    "    verbose=True,\n",
    "    google_api_key=GOOGLE_API_KEY\n",
    ")\n",
    "\n",
    "embeddings = HuggingFaceEmbeddings(model_name=\"sentence-transformers/all-mpnet-base-v2\")\n",
    "vectorstore=Chroma(persist_directory=\"./chroma_db2\",embedding_function=embeddings)\n",
    "\n",
    "def gemini_answer(query: str) -> str:\n",
    "    query = \"Who is the Head of the Department of Statistics?\"\n",
    "    results= vectorstore.similarity_search(query, k=5)\n",
    "    retrieved_text = \"\\n\\n\".join([doc.page_content for doc in results])\n",
    "\n",
    "    combined_prompt = f\"\"\"\n",
    "    You are a helpful assistant for university information.\n",
    "    Use the following context to answer the question clearly and concisely.\n",
    "\n",
    "    Context:\n",
    "    {retrieved_text}\n",
    "\n",
    "    Question:\n",
    "    {query}\n",
    "\n",
    "    Answer:\n",
    "    \"\"\"\n",
    "    response = gemini_llm.invoke(combined_prompt)\n",
    "\n",
    "    print(\"\\n🤖 Gemini Answer:\\n\")\n",
    "    return response.text\n",
    "\n",
    "\n"
   ]
  }
 ],
 "metadata": {
  "kernelspec": {
   "display_name": "statibot",
   "language": "python",
   "name": "python3"
  },
  "language_info": {
   "codemirror_mode": {
    "name": "ipython",
    "version": 3
   },
   "file_extension": ".py",
   "mimetype": "text/x-python",
   "name": "python",
   "nbconvert_exporter": "python",
   "pygments_lexer": "ipython3",
   "version": "3.11.14"
  }
 },
 "nbformat": 4,
 "nbformat_minor": 5
}
